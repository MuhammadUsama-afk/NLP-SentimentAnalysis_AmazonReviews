{
 "cells": [
  {
   "cell_type": "markdown",
   "metadata": {},
   "source": [
    "# Sentiment analysis on the Amazon review dataset, using support vector classifier"
   ]
  },
  {
   "cell_type": "markdown",
   "metadata": {},
   "source": [
    "We begin by importing the various libraries and functions we will need."
   ]
  },
  {
   "cell_type": "code",
   "execution_count": 2,
   "metadata": {},
   "outputs": [],
   "source": [
    "# Importing necessary libraries\n",
    "import pandas as pd\n",
    "import numpy as np\n",
    "import timeit\n",
    "\n",
    "from sklearn.metrics import confusion_matrix\n",
    "from sklearn.feature_extraction.text import TfidfVectorizer\n",
    "\n",
    "from sklearn.svm import SVC\n",
    "from sklearn.ensemble import BaggingClassifier\n",
    "from sklearn.svm import LinearSVC\n",
    "from sklearn.metrics import accuracy_score\n",
    "from sklearn.metrics import precision_score\n",
    "from sklearn.metrics import f1_score\n",
    "import matplotlib.pyplot as plt"
   ]
  },
  {
   "cell_type": "markdown",
   "metadata": {},
   "source": [
    "Note that we are importing a previously processed csv file."
   ]
  },
  {
   "cell_type": "code",
   "execution_count": 3,
   "metadata": {},
   "outputs": [
    {
     "name": "stdout",
     "output_type": "stream",
     "text": [
      "Importing data\n",
      "Time:  13.441509100000001\n"
     ]
    },
    {
     "data": {
      "text/plain": [
       "1    200000\n",
       "0    200000\n",
       "Name: Label, dtype: int64"
      ]
     },
     "execution_count": 3,
     "metadata": {},
     "output_type": "execute_result"
    }
   ],
   "source": [
    "# Importing data start timer\n",
    "print('Importing data')\n",
    "start = timeit.default_timer()\n",
    "\n",
    "data_train = pd.read_csv('data/amazon_clean_train.csv', encoding='utf-8')\n",
    "data_test = pd.read_csv('data/amazon_clean_test.csv', encoding='utf-8')\n",
    "\n",
    "# Importing data stop timer\n",
    "stop = timeit.default_timer()\n",
    "print('Time: ', stop - start)\n",
    "\n",
    "data_train.Label.value_counts()\n",
    "data_test.Label.value_counts()"
   ]
  },
  {
   "cell_type": "markdown",
   "metadata": {},
   "source": [
    "We now need to vectorize our data. Here we need to explain some aspects of what we are doing. \n",
    "\n",
    "The TfidfVectorizer was used both to prepare the strings, but also to strip away some useless data (that caused clutter in the dataset). The exact values were found through a bit of trial and error.\n",
    "\n",
    "The reason we use apply(lambda x: np.str_(x)) is that we had occasional problems where, in spite of our efforts, we found that sometimes a line in the dataset was not recognised as a string. We found that the apply lambda function was a quick and easy way to get around this problem."
   ]
  },
  {
   "cell_type": "code",
   "execution_count": 4,
   "metadata": {},
   "outputs": [
    {
     "name": "stdout",
     "output_type": "stream",
     "text": [
      "Fitting vectors\n",
      "Time:  188.62563799999998\n"
     ]
    }
   ],
   "source": [
    "#tf_idf_cv = TfidfVectorizer()\n",
    "tf_idf_cv = TfidfVectorizer(min_df = 25, max_df = 0.8,\n",
    "                    max_features = None, sublinear_tf = True, use_idf = True)\n",
    "\n",
    "\n",
    "# Fitting vectors start timer\n",
    "print('Fitting vectors')\n",
    "start = timeit.default_timer()\n",
    "trainX = tf_idf_cv.fit_transform(data_train['Review']\n",
    "                                 .apply(lambda x: np.str_(x)))\n",
    "testX = tf_idf_cv.transform(data_test['Review']\n",
    "                            .apply(lambda x: np.str_(x)))\n",
    "testY = data_test['Label'].values.astype(int)\n",
    "trainY = data_train['Label'].values.astype(int)\n",
    "# Fitting vectors stop timer\n",
    "stop = timeit.default_timer()\n",
    "print('Time: ', stop - start)"
   ]
  },
  {
   "cell_type": "markdown",
   "metadata": {},
   "source": [
    "# Initial test run of various kernels of SVC\n",
    "\n",
    "Note that in this section we are trying to find the best kernel. The problem is that SVC is so demanding on CPUs and memories that we are unable to test on the full dataset. Instead we use bagging, extracting a much smaller sample (25K and 100K) of the full dataset and testing on that.\n",
    "\n",
    "Even with this you can see that the results were quite one sided. Simply put only the Linear Kernel had any success whatsoever and all the others classified every single item as being in the same class."
   ]
  },
  {
   "cell_type": "markdown",
   "metadata": {},
   "source": [
    "## Linear Kernel"
   ]
  },
  {
   "cell_type": "markdown",
   "metadata": {},
   "source": [
    "### 25K sample"
   ]
  },
  {
   "cell_type": "code",
   "execution_count": 18,
   "metadata": {},
   "outputs": [
    {
     "name": "stdout",
     "output_type": "stream",
     "text": [
      "Bagging SVC with gamma = \"auto\", kernel = \"linear\"\n"
     ]
    },
    {
     "name": "stderr",
     "output_type": "stream",
     "text": [
      "[Parallel(n_jobs=1)]: Using backend SequentialBackend with 1 concurrent workers.\n"
     ]
    },
    {
     "name": "stdout",
     "output_type": "stream",
     "text": [
      "Building estimator 1 of 1 for this parallel run (total 1)...\n"
     ]
    },
    {
     "name": "stderr",
     "output_type": "stream",
     "text": [
      "[Parallel(n_jobs=1)]: Done   1 out of   1 | elapsed:  2.9min remaining:    0.0s\n",
      "[Parallel(n_jobs=1)]: Done   1 out of   1 | elapsed:  2.9min finished\n",
      "[Parallel(n_jobs=1)]: Using backend SequentialBackend with 1 concurrent workers.\n"
     ]
    },
    {
     "name": "stdout",
     "output_type": "stream",
     "text": [
      "Training time:  174.78427789999841\n"
     ]
    },
    {
     "name": "stderr",
     "output_type": "stream",
     "text": [
      "[Parallel(n_jobs=1)]: Done   1 out of   1 | elapsed: 30.2min remaining:    0.0s\n",
      "[Parallel(n_jobs=1)]: Done   1 out of   1 | elapsed: 30.2min finished\n"
     ]
    },
    {
     "name": "stdout",
     "output_type": "stream",
     "text": [
      "Test time:  1810.9115792999946\n",
      "Out of 400000 datapoints\n",
      "Accuracy: 86.4857%\n",
      "Precision: 86.1677%\n",
      "F1 score: 86.5449%\n",
      "Confusion Matrix: \n",
      " [[172092  27908]\n",
      " [ 26149 173851]]\n"
     ]
    }
   ],
   "source": [
    "## Gamma-function = \"auto\", kernel = \"linear\"\n",
    "# Start timer\n",
    "print('Bagging SVC with gamma = \"auto\", kernel = \"linear\"')\n",
    "start = timeit.default_timer()\n",
    "\n",
    "svc_linear = BaggingClassifier(base_estimator=SVC(cache_size=2000,\n",
    "                kernel=\"linear\", gamma = \"auto\"), n_jobs=1, verbose=2,\n",
    "                n_estimators=1, random_state=0, max_samples=(25*(10**3)),\n",
    "                ).fit(trainX, trainY)\n",
    "# stop timer\n",
    "stop = timeit.default_timer()\n",
    "print('Training time: ', stop - start)\n",
    "# Start timer\n",
    "start = timeit.default_timer()\n",
    "y_pred = svc_linear.predict(testX)\n",
    "# stop timer\n",
    "stop = timeit.default_timer()\n",
    "print('Test time: ', stop - start)\n",
    "#Performance Measures\n",
    "accuracy_svclin = 100*accuracy_score(testY,y_pred)\n",
    "precision_svclin = 100*precision_score(testY,y_pred)\n",
    "f1_svclin = 100*f1_score(testY,y_pred)\n",
    "# Printing results\n",
    "print(\"Out of\", len(testY), 'datapoints')\n",
    "print(\"Accuracy: {:.04f}%\".format(accuracy_svclin))\n",
    "print(\"Precision: {:.04f}%\".format(precision_svclin))\n",
    "print(\"F1 score: {:.04f}%\".format(f1_svclin))\n",
    "m = confusion_matrix(y_true=testY, y_pred=y_pred)\n",
    "print(\"Confusion Matrix: \\n\",m)"
   ]
  },
  {
   "cell_type": "code",
   "execution_count": 22,
   "metadata": {},
   "outputs": [],
   "source": [
    "y_perf_svclin = np.array([\"Accuracy\",\"Precision\",\"F1\"])\n",
    "ypos = np.arange(len(y_perf_svclin))\n",
    "y_val_svclin = np.array([accuracy_svclin,precision_svclin,f1_svclin])"
   ]
  },
  {
   "cell_type": "code",
   "execution_count": 23,
   "metadata": {},
   "outputs": [
    {
     "data": {
      "text/plain": [
       "<BarContainer object of 3 artists>"
      ]
     },
     "execution_count": 23,
     "metadata": {},
     "output_type": "execute_result"
    },
    {
     "data": {
      "image/png": "[encoded data removed]",
      "text/plain": [
       "<Figure size 432x288 with 1 Axes>"
      ]
     },
     "metadata": {
      "needs_background": "light"
     },
     "output_type": "display_data"
    }
   ],
   "source": [
    "plt.xticks(ypos,y_perf_svclin)\n",
    "plt.ylabel(\"Percentage\")\n",
    "plt.title(\"SVC Linear Kernel (25K Sample) Performance\")\n",
    "plt.bar(ypos,y_val_svclin)"
   ]
  },
  {
   "cell_type": "markdown",
   "metadata": {},
   "source": [
    "## RBF Kernel"
   ]
  },
  {
   "cell_type": "markdown",
   "metadata": {},
   "source": [
    "### 25K Sample"
   ]
  },
  {
   "cell_type": "code",
   "execution_count": 10,
   "metadata": {},
   "outputs": [
    {
     "name": "stdout",
     "output_type": "stream",
     "text": [
      "Bagging SVC with gamma = \"auto\", kernel = \"rbf\"\n"
     ]
    },
    {
     "name": "stderr",
     "output_type": "stream",
     "text": [
      "[Parallel(n_jobs=1)]: Using backend SequentialBackend with 1 concurrent workers.\n"
     ]
    },
    {
     "name": "stdout",
     "output_type": "stream",
     "text": [
      "Building estimator 1 of 1 for this parallel run (total 1)...\n"
     ]
    },
    {
     "name": "stderr",
     "output_type": "stream",
     "text": [
      "[Parallel(n_jobs=1)]: Done   1 out of   1 | elapsed:  5.6min remaining:    0.0s\n",
      "[Parallel(n_jobs=1)]: Done   1 out of   1 | elapsed:  5.6min finished\n",
      "[Parallel(n_jobs=1)]: Using backend SequentialBackend with 1 concurrent workers.\n"
     ]
    },
    {
     "name": "stdout",
     "output_type": "stream",
     "text": [
      "Training time:  335.9340523000001\n"
     ]
    },
    {
     "name": "stderr",
     "output_type": "stream",
     "text": [
      "[Parallel(n_jobs=1)]: Done   1 out of   1 | elapsed: 66.8min remaining:    0.0s\n",
      "[Parallel(n_jobs=1)]: Done   1 out of   1 | elapsed: 66.8min finished\n"
     ]
    },
    {
     "name": "stdout",
     "output_type": "stream",
     "text": [
      "Test time:  4010.2019317000004\n"
     ]
    },
    {
     "name": "stderr",
     "output_type": "stream",
     "text": [
      "C:\\Users\\einst\\anaconda3\\lib\\site-packages\\sklearn\\metrics\\_classification.py:1221: UndefinedMetricWarning: Precision is ill-defined and being set to 0.0 due to no predicted samples. Use `zero_division` parameter to control this behavior.\n",
      "  _warn_prf(average, modifier, msg_start, len(result))\n"
     ]
    },
    {
     "name": "stdout",
     "output_type": "stream",
     "text": [
      "Out of 400000 datapoints\n",
      "Accuracy: 50.0000%\n",
      "Precision: 0.0000%\n",
      "F1 score: 0.0000%\n",
      "Confusion Matrix: \n",
      " [[200000      0]\n",
      " [200000      0]]\n"
     ]
    }
   ],
   "source": [
    "## Gamma-function = \"auto\", kernel = \"rbf\"\n",
    "# Start timer\n",
    "print('Bagging SVC with gamma = \"auto\", kernel = \"rbf\"')\n",
    "start = timeit.default_timer()\n",
    "\n",
    "svc_rbf = BaggingClassifier(base_estimator=SVC(cache_size=2000,\n",
    "                kernel=\"rbf\", gamma = \"auto\"), n_jobs=1, verbose=2,\n",
    "                n_estimators=1, random_state=0, max_samples=(25*(10**3))\n",
    "                ).fit(trainX, trainY)\n",
    "# stop timer\n",
    "stop = timeit.default_timer()\n",
    "print('Training time: ', stop - start)\n",
    "# Start timer\n",
    "start = timeit.default_timer()\n",
    "y_pred = svc_rbf.predict(testX)\n",
    "# stop timer\n",
    "stop = timeit.default_timer()\n",
    "print('Test time: ', stop - start)\n",
    "#Performance Measures\n",
    "accuracy_svcrbf = 100*accuracy_score(testY,y_pred)\n",
    "precision_svcrbf = 100*precision_score(testY,y_pred)\n",
    "f1_svcrbf = 100*f1_score(testY,y_pred)\n",
    "# Printing results\n",
    "print(\"Out of\", len(testY), 'datapoints')\n",
    "print(\"Accuracy: {:.04f}%\".format(accuracy_svcrbf))\n",
    "print(\"Precision: {:.04f}%\".format(precision_svcrbf))\n",
    "print(\"F1 score: {:.04f}%\".format(f1_svcrbf))\n",
    "m = confusion_matrix(y_true=testY, y_pred=y_pred)\n",
    "print(\"Confusion Matrix: \\n\",m)"
   ]
  },
  {
   "cell_type": "code",
   "execution_count": 21,
   "metadata": {},
   "outputs": [],
   "source": [
    "y_perf_svcrbf = np.array([\"Accuracy\",\"Precision\",\"F1\"])\n",
    "ypos = np.arange(len(y_perf_svcrbf))\n",
    "y_val_svcrbf = np.array([accuracy_svcrbf,precision_svcrbf,f1_svcrbf])"
   ]
  },
  {
   "cell_type": "code",
   "execution_count": 12,
   "metadata": {},
   "outputs": [
    {
     "data": {
      "text/plain": [
       "<BarContainer object of 3 artists>"
      ]
     },
     "execution_count": 12,
     "metadata": {},
     "output_type": "execute_result"
    },
    {
     "data": {
      "image/png": "[encoded data removed]",
      "text/plain": [
       "<Figure size 432x288 with 1 Axes>"
      ]
     },
     "metadata": {
      "needs_background": "light"
     },
     "output_type": "display_data"
    }
   ],
   "source": [
    "plt.xticks(ypos,y_perf_svcrbf)\n",
    "plt.ylabel(\"Percentage\")\n",
    "plt.title(\"SVC RBF Kernel (25K Sample) Performance\")\n",
    "plt.bar(ypos,y_val_svcrbf)"
   ]
  },
  {
   "cell_type": "markdown",
   "metadata": {},
   "source": [
    "### 100K Sample"
   ]
  },
  {
   "cell_type": "code",
   "execution_count": 8,
   "metadata": {},
   "outputs": [
    {
     "name": "stdout",
     "output_type": "stream",
     "text": [
      "Bagging SVC with gamma = \"auto\", kernel = \"rbf\"\n"
     ]
    },
    {
     "name": "stderr",
     "output_type": "stream",
     "text": [
      "[Parallel(n_jobs=1)]: Using backend SequentialBackend with 1 concurrent workers.\n"
     ]
    },
    {
     "name": "stdout",
     "output_type": "stream",
     "text": [
      "Building estimator 1 of 1 for this parallel run (total 1)...\n"
     ]
    },
    {
     "name": "stderr",
     "output_type": "stream",
     "text": [
      "[Parallel(n_jobs=1)]: Done   1 out of   1 | elapsed: 94.2min remaining:    0.0s\n",
      "[Parallel(n_jobs=1)]: Done   1 out of   1 | elapsed: 94.2min finished\n",
      "[Parallel(n_jobs=1)]: Using backend SequentialBackend with 1 concurrent workers.\n"
     ]
    },
    {
     "name": "stdout",
     "output_type": "stream",
     "text": [
      "Training time:  5652.3200775410005\n"
     ]
    },
    {
     "name": "stderr",
     "output_type": "stream",
     "text": [
      "[Parallel(n_jobs=1)]: Done   1 out of   1 | elapsed: 208.8min remaining:    0.0s\n",
      "[Parallel(n_jobs=1)]: Done   1 out of   1 | elapsed: 208.8min finished\n"
     ]
    },
    {
     "name": "stdout",
     "output_type": "stream",
     "text": [
      "Test time:  12528.255397921006\n",
      "Out of 400000 datapoints, our accuracy was 50.000%.\n",
      "[[200000      0]\n",
      " [200000      0]]\n"
     ]
    }
   ],
   "source": [
    "## Gamma-function = \"auto\", kernel = \"rbf\"\n",
    "# Start timer\n",
    "print('Bagging SVC with gamma = \"auto\", kernel = \"rbf\"')\n",
    "start = timeit.default_timer()\n",
    "\n",
    "svc_rbf = BaggingClassifier(base_estimator=SVC(cache_size=2000,\n",
    "                kernel=\"rbf\", gamma = \"auto\"), n_jobs=1, verbose=2,\n",
    "                n_estimators=1, random_state=0, max_samples=(100*(10**3))\n",
    "                ).fit(trainX, trainY)\n",
    "# stop timer\n",
    "stop = timeit.default_timer()\n",
    "print('Training time: ', stop - start)\n",
    "# Start timer\n",
    "start = timeit.default_timer()\n",
    "y_pred = svc_rbf.predict(testX)\n",
    "# stop timer\n",
    "stop = timeit.default_timer()\n",
    "print('Test time: ', stop - start)\n",
    "# Printing results\n",
    "print(\"Out of\", len(testY), 'datapoints, our accuracy was {:.03f}%.'\n",
    "      .format(100*(1-(y_pred != testY).sum()/len(testY))))\n",
    "m = confusion_matrix(y_true=testY, y_pred=y_pred)\n",
    "print(m)"
   ]
  },
  {
   "cell_type": "markdown",
   "metadata": {},
   "source": [
    "## Sigmoid Kernel"
   ]
  },
  {
   "cell_type": "markdown",
   "metadata": {},
   "source": [
    "### 25K Sample"
   ]
  },
  {
   "cell_type": "code",
   "execution_count": 5,
   "metadata": {},
   "outputs": [
    {
     "name": "stdout",
     "output_type": "stream",
     "text": [
      "Bagging SVC with gamma = \"auto\", kernel = \"sigmoid\"\n"
     ]
    },
    {
     "name": "stderr",
     "output_type": "stream",
     "text": [
      "[Parallel(n_jobs=1)]: Using backend SequentialBackend with 1 concurrent workers.\n"
     ]
    },
    {
     "name": "stdout",
     "output_type": "stream",
     "text": [
      "Building estimator 1 of 1 for this parallel run (total 1)...\n"
     ]
    },
    {
     "name": "stderr",
     "output_type": "stream",
     "text": [
      "[Parallel(n_jobs=1)]: Done   1 out of   1 | elapsed:  5.9min remaining:    0.0s\n",
      "[Parallel(n_jobs=1)]: Done   1 out of   1 | elapsed:  5.9min finished\n",
      "[Parallel(n_jobs=1)]: Using backend SequentialBackend with 1 concurrent workers.\n"
     ]
    },
    {
     "name": "stdout",
     "output_type": "stream",
     "text": [
      "Training time:  354.13868490000004\n"
     ]
    },
    {
     "name": "stderr",
     "output_type": "stream",
     "text": [
      "[Parallel(n_jobs=1)]: Done   1 out of   1 | elapsed: 69.2min remaining:    0.0s\n",
      "[Parallel(n_jobs=1)]: Done   1 out of   1 | elapsed: 69.2min finished\n"
     ]
    },
    {
     "name": "stdout",
     "output_type": "stream",
     "text": [
      "Test time:  4152.2326643\n"
     ]
    },
    {
     "name": "stderr",
     "output_type": "stream",
     "text": [
      "C:\\Users\\einst\\anaconda3\\lib\\site-packages\\sklearn\\metrics\\_classification.py:1221: UndefinedMetricWarning: Precision is ill-defined and being set to 0.0 due to no predicted samples. Use `zero_division` parameter to control this behavior.\n",
      "  _warn_prf(average, modifier, msg_start, len(result))\n"
     ]
    },
    {
     "name": "stdout",
     "output_type": "stream",
     "text": [
      "Out of 400000 datapoints\n",
      "Accuracy: 50.0000%\n",
      "Precision: 0.0000%\n",
      "F1 score: 0.0000%\n",
      "Confusion Matrix: \n",
      " [[200000      0]\n",
      " [200000      0]]\n"
     ]
    }
   ],
   "source": [
    "## Gamma-function = \"auto\", kernel = \"sigmoid\"\n",
    "# Start timer\n",
    "print('Bagging SVC with gamma = \"auto\", kernel = \"sigmoid\"')\n",
    "start = timeit.default_timer()\n",
    "\n",
    "svc_sigmoid = BaggingClassifier(base_estimator=SVC(cache_size=2000,\n",
    "                kernel=\"sigmoid\", gamma = \"auto\"), n_jobs=1, verbose=2,\n",
    "                n_estimators=1, random_state=0, max_samples=(25*(10**3))\n",
    "                ).fit(trainX, trainY)\n",
    "# stop timer\n",
    "stop = timeit.default_timer()\n",
    "print('Training time: ', stop - start)\n",
    "# Start timer\n",
    "start = timeit.default_timer()\n",
    "y_pred = svc_sigmoid.predict(testX)\n",
    "# stop timer\n",
    "stop = timeit.default_timer()\n",
    "print('Test time: ', stop - start)\n",
    "#Performance Measures\n",
    "accuracy_svcsig = 100*accuracy_score(testY,y_pred)\n",
    "precision_svcsig = 100*precision_score(testY,y_pred)\n",
    "f1_svcsig = 100*f1_score(testY,y_pred)\n",
    "# Printing results\n",
    "print(\"Out of\", len(testY), 'datapoints')\n",
    "print(\"Accuracy: {:.04f}%\".format(accuracy_svcsig))\n",
    "print(\"Precision: {:.04f}%\".format(precision_svcsig))\n",
    "print(\"F1 score: {:.04f}%\".format(f1_svcsig))\n",
    "m = confusion_matrix(y_true=testY, y_pred=y_pred)\n",
    "print(\"Confusion Matrix: \\n\",m)"
   ]
  },
  {
   "cell_type": "code",
   "execution_count": 6,
   "metadata": {},
   "outputs": [],
   "source": [
    "y_perf_svcsig = np.array([\"Accuracy\",\"Precision\",\"F1\"])\n",
    "ypos = np.arange(len(y_perf_svcsig))\n",
    "y_val_svcsig = np.array([accuracy_svcsig,precision_svcsig,f1_svcsig])"
   ]
  },
  {
   "cell_type": "code",
   "execution_count": 7,
   "metadata": {},
   "outputs": [
    {
     "data": {
      "text/plain": [
       "<BarContainer object of 3 artists>"
      ]
     },
     "execution_count": 7,
     "metadata": {},
     "output_type": "execute_result"
    },
    {
     "data": {
      "image/png": "[encoded data removed]",
      "text/plain": [
       "<Figure size 432x288 with 1 Axes>"
      ]
     },
     "metadata": {
      "needs_background": "light"
     },
     "output_type": "display_data"
    }
   ],
   "source": [
    "plt.xticks(ypos,y_perf_svcsig)\n",
    "plt.ylabel(\"Percentage\")\n",
    "plt.title(\"SVC Sigmoid Kernel (25K Sample) Performance\")\n",
    "plt.bar(ypos,y_val_svcsig)"
   ]
  },
  {
   "cell_type": "markdown",
   "metadata": {},
   "source": [
    "### 100K Sample"
   ]
  },
  {
   "cell_type": "code",
   "execution_count": 9,
   "metadata": {},
   "outputs": [
    {
     "name": "stdout",
     "output_type": "stream",
     "text": [
      "Bagging SVC with gamma = \"auto\", kernel = \"sigmoid\"\n"
     ]
    },
    {
     "name": "stderr",
     "output_type": "stream",
     "text": [
      "[Parallel(n_jobs=1)]: Using backend SequentialBackend with 1 concurrent workers.\n"
     ]
    },
    {
     "name": "stdout",
     "output_type": "stream",
     "text": [
      "Building estimator 1 of 1 for this parallel run (total 1)...\n"
     ]
    },
    {
     "name": "stderr",
     "output_type": "stream",
     "text": [
      "[Parallel(n_jobs=1)]: Done   1 out of   1 | elapsed: 68.1min remaining:    0.0s\n",
      "[Parallel(n_jobs=1)]: Done   1 out of   1 | elapsed: 68.1min finished\n",
      "[Parallel(n_jobs=1)]: Using backend SequentialBackend with 1 concurrent workers.\n"
     ]
    },
    {
     "name": "stdout",
     "output_type": "stream",
     "text": [
      "Training time:  4088.1295474720027\n"
     ]
    },
    {
     "name": "stderr",
     "output_type": "stream",
     "text": [
      "[Parallel(n_jobs=1)]: Done   1 out of   1 | elapsed: 211.2min remaining:    0.0s\n",
      "[Parallel(n_jobs=1)]: Done   1 out of   1 | elapsed: 211.2min finished\n"
     ]
    },
    {
     "name": "stdout",
     "output_type": "stream",
     "text": [
      "Test time:  12672.685062988\n",
      "Out of 400000 datapoints, our accuracy was 50.000%.\n",
      "[[200000      0]\n",
      " [200000      0]]\n"
     ]
    }
   ],
   "source": [
    "## Gamma-function = \"auto\", kernel = \"sigmoid\"\n",
    "# Start timer\n",
    "print('Bagging SVC with gamma = \"auto\", kernel = \"sigmoid\"')\n",
    "start = timeit.default_timer()\n",
    "\n",
    "svc_sigmoid = BaggingClassifier(base_estimator=SVC(cache_size=2000,\n",
    "                kernel=\"sigmoid\", gamma = \"auto\"), n_jobs=1, verbose=2,\n",
    "                n_estimators=1, random_state=0, max_samples=(100*(10**3))\n",
    "                ).fit(trainX, trainY)\n",
    "# stop timer\n",
    "stop = timeit.default_timer()\n",
    "print('Training time: ', stop - start)\n",
    "# Start timer\n",
    "start = timeit.default_timer()\n",
    "y_pred = svc_sigmoid.predict(testX)\n",
    "# stop timer\n",
    "stop = timeit.default_timer()\n",
    "print('Test time: ', stop - start)\n",
    "# Printing results\n",
    "print(\"Out of\", len(testY), 'datapoints, our accuracy was {:.03f}%.'\n",
    "      .format(100*(1-(y_pred != testY).sum()/len(testY))))\n",
    "m = confusion_matrix(y_true=testY, y_pred=y_pred)\n",
    "print(m)"
   ]
  },
  {
   "cell_type": "markdown",
   "metadata": {},
   "source": [
    "## Poly Kernel"
   ]
  },
  {
   "cell_type": "markdown",
   "metadata": {},
   "source": [
    "### 25K Sample"
   ]
  },
  {
   "cell_type": "code",
   "execution_count": 7,
   "metadata": {},
   "outputs": [
    {
     "name": "stdout",
     "output_type": "stream",
     "text": [
      "Bagging SVC with gamma = \"auto\", kernel = \"poly\", degree=1\n"
     ]
    },
    {
     "name": "stderr",
     "output_type": "stream",
     "text": [
      "[Parallel(n_jobs=1)]: Using backend SequentialBackend with 1 concurrent workers.\n"
     ]
    },
    {
     "name": "stdout",
     "output_type": "stream",
     "text": [
      "Building estimator 1 of 1 for this parallel run (total 1)...\n"
     ]
    },
    {
     "name": "stderr",
     "output_type": "stream",
     "text": [
      "[Parallel(n_jobs=1)]: Done   1 out of   1 | elapsed:  4.9min remaining:    0.0s\n",
      "[Parallel(n_jobs=1)]: Done   1 out of   1 | elapsed:  4.9min finished\n",
      "[Parallel(n_jobs=1)]: Using backend SequentialBackend with 1 concurrent workers.\n"
     ]
    },
    {
     "name": "stdout",
     "output_type": "stream",
     "text": [
      "Training time:  293.05734295\n"
     ]
    },
    {
     "name": "stderr",
     "output_type": "stream",
     "text": [
      "[Parallel(n_jobs=1)]: Done   1 out of   1 | elapsed: 56.6min remaining:    0.0s\n",
      "[Parallel(n_jobs=1)]: Done   1 out of   1 | elapsed: 56.6min finished\n"
     ]
    },
    {
     "name": "stdout",
     "output_type": "stream",
     "text": [
      "Test time:  3397.5018631479998\n",
      "Out of 400000 datapoints, our accuracy was 50.000%.\n",
      "[[200000      0]\n",
      " [200000      0]]\n",
      "Bagging SVC with gamma = \"auto\", kernel = \"poly\", degree=2\n"
     ]
    },
    {
     "name": "stderr",
     "output_type": "stream",
     "text": [
      "[Parallel(n_jobs=1)]: Using backend SequentialBackend with 1 concurrent workers.\n"
     ]
    },
    {
     "name": "stdout",
     "output_type": "stream",
     "text": [
      "Building estimator 1 of 1 for this parallel run (total 1)...\n"
     ]
    },
    {
     "name": "stderr",
     "output_type": "stream",
     "text": [
      "[Parallel(n_jobs=1)]: Done   1 out of   1 | elapsed:  5.2min remaining:    0.0s\n",
      "[Parallel(n_jobs=1)]: Done   1 out of   1 | elapsed:  5.2min finished\n",
      "[Parallel(n_jobs=1)]: Using backend SequentialBackend with 1 concurrent workers.\n"
     ]
    },
    {
     "name": "stdout",
     "output_type": "stream",
     "text": [
      "Training time:  311.0976120840005\n"
     ]
    },
    {
     "name": "stderr",
     "output_type": "stream",
     "text": [
      "[Parallel(n_jobs=1)]: Done   1 out of   1 | elapsed: 72.1min remaining:    0.0s\n",
      "[Parallel(n_jobs=1)]: Done   1 out of   1 | elapsed: 72.1min finished\n"
     ]
    },
    {
     "name": "stdout",
     "output_type": "stream",
     "text": [
      "Test time:  4327.162391235999\n",
      "Out of 400000 datapoints, our accuracy was 50.000%.\n",
      "[[200000      0]\n",
      " [200000      0]]\n",
      "Bagging SVC with gamma = \"auto\", kernel = \"poly\", degree=3\n"
     ]
    },
    {
     "name": "stderr",
     "output_type": "stream",
     "text": [
      "[Parallel(n_jobs=1)]: Using backend SequentialBackend with 1 concurrent workers.\n"
     ]
    },
    {
     "name": "stdout",
     "output_type": "stream",
     "text": [
      "Building estimator 1 of 1 for this parallel run (total 1)...\n"
     ]
    },
    {
     "name": "stderr",
     "output_type": "stream",
     "text": [
      "[Parallel(n_jobs=1)]: Done   1 out of   1 | elapsed:  6.8min remaining:    0.0s\n",
      "[Parallel(n_jobs=1)]: Done   1 out of   1 | elapsed:  6.8min finished\n",
      "[Parallel(n_jobs=1)]: Using backend SequentialBackend with 1 concurrent workers.\n"
     ]
    },
    {
     "name": "stdout",
     "output_type": "stream",
     "text": [
      "Training time:  410.1189300549995\n"
     ]
    },
    {
     "name": "stderr",
     "output_type": "stream",
     "text": [
      "[Parallel(n_jobs=1)]: Done   1 out of   1 | elapsed: 72.1min remaining:    0.0s\n",
      "[Parallel(n_jobs=1)]: Done   1 out of   1 | elapsed: 72.2min finished\n"
     ]
    },
    {
     "name": "stdout",
     "output_type": "stream",
     "text": [
      "Test time:  4329.171723227002\n",
      "Out of 400000 datapoints, our accuracy was 50.000%.\n",
      "[[200000      0]\n",
      " [200000      0]]\n",
      "Bagging SVC with gamma = \"auto\", kernel = \"poly\", degree=4\n"
     ]
    },
    {
     "name": "stderr",
     "output_type": "stream",
     "text": [
      "[Parallel(n_jobs=1)]: Using backend SequentialBackend with 1 concurrent workers.\n"
     ]
    },
    {
     "name": "stdout",
     "output_type": "stream",
     "text": [
      "Building estimator 1 of 1 for this parallel run (total 1)...\n"
     ]
    },
    {
     "name": "stderr",
     "output_type": "stream",
     "text": [
      "[Parallel(n_jobs=1)]: Done   1 out of   1 | elapsed:  6.8min remaining:    0.0s\n",
      "[Parallel(n_jobs=1)]: Done   1 out of   1 | elapsed:  6.8min finished\n",
      "[Parallel(n_jobs=1)]: Using backend SequentialBackend with 1 concurrent workers.\n"
     ]
    },
    {
     "name": "stdout",
     "output_type": "stream",
     "text": [
      "Training time:  406.07982925000033\n"
     ]
    },
    {
     "name": "stderr",
     "output_type": "stream",
     "text": [
      "[Parallel(n_jobs=1)]: Done   1 out of   1 | elapsed: 71.6min remaining:    0.0s\n",
      "[Parallel(n_jobs=1)]: Done   1 out of   1 | elapsed: 71.6min finished\n"
     ]
    },
    {
     "name": "stdout",
     "output_type": "stream",
     "text": [
      "Test time:  4295.963261613\n",
      "Out of 400000 datapoints, our accuracy was 50.000%.\n",
      "[[200000      0]\n",
      " [200000      0]]\n",
      "Bagging SVC with gamma = \"auto\", kernel = \"poly\", degree=5\n"
     ]
    },
    {
     "name": "stderr",
     "output_type": "stream",
     "text": [
      "[Parallel(n_jobs=1)]: Using backend SequentialBackend with 1 concurrent workers.\n"
     ]
    },
    {
     "name": "stdout",
     "output_type": "stream",
     "text": [
      "Building estimator 1 of 1 for this parallel run (total 1)...\n"
     ]
    },
    {
     "name": "stderr",
     "output_type": "stream",
     "text": [
      "[Parallel(n_jobs=1)]: Done   1 out of   1 | elapsed:  6.7min remaining:    0.0s\n",
      "[Parallel(n_jobs=1)]: Done   1 out of   1 | elapsed:  6.7min finished\n",
      "[Parallel(n_jobs=1)]: Using backend SequentialBackend with 1 concurrent workers.\n"
     ]
    },
    {
     "name": "stdout",
     "output_type": "stream",
     "text": [
      "Training time:  403.011740078\n"
     ]
    },
    {
     "name": "stderr",
     "output_type": "stream",
     "text": [
      "[Parallel(n_jobs=1)]: Done   1 out of   1 | elapsed: 71.4min remaining:    0.0s\n",
      "[Parallel(n_jobs=1)]: Done   1 out of   1 | elapsed: 71.4min finished\n"
     ]
    },
    {
     "name": "stdout",
     "output_type": "stream",
     "text": [
      "Test time:  4285.003897259001\n",
      "Out of 400000 datapoints, our accuracy was 50.000%.\n",
      "[[200000      0]\n",
      " [200000      0]]\n"
     ]
    }
   ],
   "source": [
    "## Gamma-function = \"auto\", kernel = \"poly\"\n",
    "# Start timer\n",
    "for p in np.arange(1,6):\n",
    "    temp = 'Bagging SVC with gamma = \"auto\", kernel = \"poly\", degree=' + str(p)\n",
    "    print(temp)\n",
    "    start = timeit.default_timer()\n",
    "\n",
    "    svc_poly = BaggingClassifier(base_estimator=SVC(cache_size=2000,\n",
    "                    degree=int(p), kernel=\"poly\", gamma = \"auto\"), n_jobs=1,\n",
    "                    verbose=2, n_estimators=1, random_state=0,\n",
    "                    max_samples=(25*(10**3))).fit(trainX, trainY)\n",
    "    # stop timer\n",
    "    stop = timeit.default_timer()\n",
    "    print('Training time: ', stop - start)\n",
    "    # Start timer\n",
    "    start = timeit.default_timer()\n",
    "    y_pred = svc_poly.predict(testX)\n",
    "    # stop timer\n",
    "    stop = timeit.default_timer()\n",
    "    print('Test time: ', stop - start)\n",
    "    # Printing results\n",
    "    print(\"Out of\", len(testY), 'datapoints, our accuracy was {:.03f}%.'\n",
    "          .format(100*(1-(y_pred != testY).sum()/len(testY))))\n",
    "    m = confusion_matrix(y_true=testY, y_pred=y_pred)\n",
    "    print(m)"
   ]
  },
  {
   "cell_type": "code",
   "execution_count": 11,
   "metadata": {},
   "outputs": [
    {
     "name": "stdout",
     "output_type": "stream",
     "text": [
      "Bagging SVC with gamma = \"auto\", kernel = \"poly\", degree=1\n"
     ]
    },
    {
     "name": "stderr",
     "output_type": "stream",
     "text": [
      "[Parallel(n_jobs=1)]: Using backend SequentialBackend with 1 concurrent workers.\n"
     ]
    },
    {
     "name": "stdout",
     "output_type": "stream",
     "text": [
      "Building estimator 1 of 1 for this parallel run (total 1)...\n"
     ]
    },
    {
     "name": "stderr",
     "output_type": "stream",
     "text": [
      "[Parallel(n_jobs=1)]: Done   1 out of   1 | elapsed:  5.8min remaining:    0.0s\n",
      "[Parallel(n_jobs=1)]: Done   1 out of   1 | elapsed:  5.8min finished\n",
      "[Parallel(n_jobs=1)]: Using backend SequentialBackend with 1 concurrent workers.\n"
     ]
    },
    {
     "name": "stdout",
     "output_type": "stream",
     "text": [
      "Training time:  351.35098840000137\n"
     ]
    },
    {
     "name": "stderr",
     "output_type": "stream",
     "text": [
      "[Parallel(n_jobs=1)]: Done   1 out of   1 | elapsed: 66.5min remaining:    0.0s\n",
      "[Parallel(n_jobs=1)]: Done   1 out of   1 | elapsed: 66.5min finished\n"
     ]
    },
    {
     "name": "stdout",
     "output_type": "stream",
     "text": [
      "Test time:  3989.217309599997\n"
     ]
    },
    {
     "name": "stderr",
     "output_type": "stream",
     "text": [
      "C:\\Users\\einst\\anaconda3\\lib\\site-packages\\sklearn\\metrics\\_classification.py:1221: UndefinedMetricWarning: Precision is ill-defined and being set to 0.0 due to no predicted samples. Use `zero_division` parameter to control this behavior.\n",
      "  _warn_prf(average, modifier, msg_start, len(result))\n"
     ]
    },
    {
     "name": "stdout",
     "output_type": "stream",
     "text": [
      "Out of 400000 datapoints\n",
      "Accuracy: 50.0000%\n",
      "Precision: 0.0000%\n",
      "F1 score: 0.0000%\n",
      "Confusion Matrix: \n",
      " [[200000      0]\n",
      " [200000      0]]\n"
     ]
    }
   ],
   "source": [
    "p=1\n",
    "temp = 'Bagging SVC with gamma = \"auto\", kernel = \"poly\", degree=' + str(p)\n",
    "print(temp)\n",
    "start = timeit.default_timer()\n",
    "svc_poly = BaggingClassifier(base_estimator=SVC(cache_size=2000,\n",
    "                    degree=int(p), kernel=\"poly\", gamma = \"auto\"), n_jobs=1,\n",
    "                    verbose=2, n_estimators=1, random_state=0,\n",
    "                    max_samples=(25*(10**3))).fit(trainX, trainY)\n",
    "# stop timer\n",
    "stop = timeit.default_timer()\n",
    "print('Training time: ', stop - start)\n",
    "# Start timer\n",
    "start = timeit.default_timer()\n",
    "y_pred = svc_poly.predict(testX)\n",
    "# stop timer\n",
    "stop = timeit.default_timer()\n",
    "print('Test time: ', stop - start)\n",
    "#Performance Measures\n",
    "accuracy_svcpoly = 100*accuracy_score(testY,y_pred)\n",
    "precision_svcpoly = 100*precision_score(testY,y_pred)\n",
    "f1_svcpoly = 100*f1_score(testY,y_pred)\n",
    "# Printing results\n",
    "print(\"Out of\", len(testY), 'datapoints')\n",
    "print(\"Accuracy: {:.04f}%\".format(accuracy_svcsig))\n",
    "print(\"Precision: {:.04f}%\".format(precision_svcsig))\n",
    "print(\"F1 score: {:.04f}%\".format(f1_svcsig))\n",
    "m = confusion_matrix(y_true=testY, y_pred=y_pred)\n",
    "print(\"Confusion Matrix: \\n\",m)"
   ]
  },
  {
   "cell_type": "code",
   "execution_count": 15,
   "metadata": {},
   "outputs": [],
   "source": [
    "y_perf_svcpoly = np.array([\"Accuracy\",\"Precision\",\"F1\"])\n",
    "ypos = np.arange(len(y_perf_svcpoly))\n",
    "y_val_svcpoly = np.array([accuracy_svcpoly,precision_svcpoly,f1_svcpoly])"
   ]
  },
  {
   "cell_type": "code",
   "execution_count": 16,
   "metadata": {},
   "outputs": [
    {
     "data": {
      "text/plain": [
       "<BarContainer object of 3 artists>"
      ]
     },
     "execution_count": 16,
     "metadata": {},
     "output_type": "execute_result"
    },
    {
     "data": {
      "image/png": "[encoded data removed]",
      "text/plain": [
       "<Figure size 432x288 with 1 Axes>"
      ]
     },
     "metadata": {
      "needs_background": "light"
     },
     "output_type": "display_data"
    }
   ],
   "source": [
    "plt.xticks(ypos,y_perf_svcpoly)\n",
    "plt.ylabel(\"Percentage\")\n",
    "plt.title(\"SVC Poly Kernel (25K Sample) Performance\")\n",
    "plt.bar(ypos,y_val_svcpoly)"
   ]
  },
  {
   "cell_type": "code",
   "execution_count": 25,
   "metadata": {},
   "outputs": [],
   "source": [
    "y_accu_svc = np.array([\"Linear\",\"RBF\",\"Sigmoid\",\"Poly\"])\n",
    "y_f1_svc = np.array([\"Linear\",\"RBF\",\"Sigmoid\",\"Poly\"])\n",
    "ypos = np.arange(len(y_accu_svc))\n",
    "y_val_accusvc = np.array([accuracy_svclin,accuracy_svcrbf,accuracy_svcsig,accuracy_svcpoly])\n",
    "y_val_f1svc = np.array([f1_svclin,f1_svcrbf,f1_svcsig,f1_svcpoly])"
   ]
  },
  {
   "cell_type": "code",
   "execution_count": 27,
   "metadata": {},
   "outputs": [
    {
     "data": {
      "text/plain": [
       "<BarContainer object of 4 artists>"
      ]
     },
     "execution_count": 27,
     "metadata": {},
     "output_type": "execute_result"
    },
    {
     "data": {
      "image/png": "[encoded data removed]",
      "text/plain": [
       "<Figure size 432x288 with 1 Axes>"
      ]
     },
     "metadata": {
      "needs_background": "light"
     },
     "output_type": "display_data"
    }
   ],
   "source": [
    "plt.xticks(ypos,y_accu_svc)\n",
    "plt.ylabel(\"Percentage\")\n",
    "plt.title(\"Accuracy Comparison\")\n",
    "plt.bar(ypos,y_val_accusvc)"
   ]
  },
  {
   "cell_type": "code",
   "execution_count": 28,
   "metadata": {},
   "outputs": [
    {
     "data": {
      "text/plain": [
       "<BarContainer object of 4 artists>"
      ]
     },
     "execution_count": 28,
     "metadata": {},
     "output_type": "execute_result"
    },
    {
     "data": {
      "image/png": "[encoded data removed]",
      "text/plain": [
       "<Figure size 432x288 with 1 Axes>"
      ]
     },
     "metadata": {
      "needs_background": "light"
     },
     "output_type": "display_data"
    }
   ],
   "source": [
    "plt.xticks(ypos,y_f1_svc)\n",
    "plt.ylabel(\"Percentage\")\n",
    "plt.title(\"F1 Score Comparison\")\n",
    "plt.bar(ypos,y_val_f1svc)"
   ]
  },
  {
   "cell_type": "markdown",
   "metadata": {},
   "source": [
    "### 100K Sample"
   ]
  },
  {
   "cell_type": "code",
   "execution_count": null,
   "metadata": {},
   "outputs": [
    {
     "name": "stdout",
     "output_type": "stream",
     "text": [
      "Bagging SVC with gamma = \"auto\", kernel = \"poly\", degree=3\n"
     ]
    },
    {
     "name": "stderr",
     "output_type": "stream",
     "text": [
      "[Parallel(n_jobs=1)]: Using backend SequentialBackend with 1 concurrent workers.\n"
     ]
    },
    {
     "name": "stdout",
     "output_type": "stream",
     "text": [
      "Building estimator 1 of 1 for this parallel run (total 1)...\n"
     ]
    },
    {
     "name": "stderr",
     "output_type": "stream",
     "text": [
      "[Parallel(n_jobs=1)]: Done   1 out of   1 | elapsed: 74.0min remaining:    0.0s\n",
      "[Parallel(n_jobs=1)]: Done   1 out of   1 | elapsed: 74.0min finished\n",
      "[Parallel(n_jobs=1)]: Using backend SequentialBackend with 1 concurrent workers.\n"
     ]
    },
    {
     "name": "stdout",
     "output_type": "stream",
     "text": [
      "Training time:  4442.483826783\n"
     ]
    }
   ],
   "source": [
    "## Gamma-function = \"auto\", kernel = \"poly\"\n",
    "# Start timer\n",
    "\n",
    "temp = 'Bagging SVC with gamma = \"auto\", kernel = \"poly\", degree=3'\n",
    "print(temp)\n",
    "start = timeit.default_timer()\n",
    "\n",
    "svc_poly = BaggingClassifier(base_estimator=SVC(cache_size=2000,\n",
    "                degree=int(3), kernel=\"poly\", gamma = \"auto\"), n_jobs=1,\n",
    "                verbose=2, n_estimators=1, random_state=0,\n",
    "                max_samples=(100*(10**3))).fit(trainX, trainY)\n",
    "# stop timer\n",
    "stop = timeit.default_timer()\n",
    "print('Training time: ', stop - start)\n",
    "# Start timer\n",
    "start = timeit.default_timer()\n",
    "y_pred = svc_poly.predict(testX)\n",
    "# stop timer\n",
    "stop = timeit.default_timer()\n",
    "print('Test time: ', stop - start)\n",
    "# Printing results\n",
    "print(\"Out of\", len(testY), 'datapoints, our accuracy was {:.03f}%.'\n",
    "      .format(100*(1-(y_pred != testY).sum()/len(testY))))\n",
    "m = confusion_matrix(y_true=testY, y_pred=y_pred)\n",
    "print(m)"
   ]
  },
  {
   "cell_type": "markdown",
   "metadata": {},
   "source": [
    "# Developing the best model (Linear Kernel)\n",
    "\n",
    "Having discovered that the linear kernel is the best for this (and thus also that we should use LinearSVC for any further work along these lines) we now attempt to run three versions of this to see if any of them reach an acceptable end."
   ]
  },
  {
   "cell_type": "markdown",
   "metadata": {},
   "source": [
    "## Bagging SVC, linear kernel, 12 runs with 25K samples"
   ]
  },
  {
   "cell_type": "code",
   "execution_count": 5,
   "metadata": {},
   "outputs": [
    {
     "name": "stdout",
     "output_type": "stream",
     "text": [
      "Bagging SVC with gamma = \"auto\", kernel = \"linear\"\n"
     ]
    },
    {
     "name": "stderr",
     "output_type": "stream",
     "text": [
      "[Parallel(n_jobs=3)]: Using backend LokyBackend with 3 concurrent workers.\n",
      "[Parallel(n_jobs=3)]: Done   3 out of   3 | elapsed: 10.1min finished\n"
     ]
    },
    {
     "name": "stdout",
     "output_type": "stream",
     "text": [
      "Training time:  608.4086196360004\n"
     ]
    },
    {
     "name": "stderr",
     "output_type": "stream",
     "text": [
      "[Parallel(n_jobs=3)]: Using backend LokyBackend with 3 concurrent workers.\n",
      "[Parallel(n_jobs=3)]: Done   3 out of   3 | elapsed: 99.4min finished\n"
     ]
    },
    {
     "name": "stdout",
     "output_type": "stream",
     "text": [
      "Test time:  5966.043314516999\n",
      "Out of 400000 datapoints, our accuracy was 88.084%.\n",
      "[[177120  22880]\n",
      " [ 24785 175215]]\n"
     ]
    }
   ],
   "source": [
    "## Gamma-function = \"auto\", kernel = \"linear\"\n",
    "# Start timer\n",
    "print('Bagging SVC with gamma = \"auto\", kernel = \"linear\"')\n",
    "start = timeit.default_timer()\n",
    "\n",
    "svc_linear = BaggingClassifier(base_estimator=SVC(cache_size=1250,\n",
    "                kernel=\"linear\", gamma = \"auto\"), n_jobs=3, verbose=2,\n",
    "                n_estimators=12, random_state=0, max_samples=(25*(10**3)),\n",
    "                ).fit(trainX, trainY)\n",
    "# stop timer\n",
    "stop = timeit.default_timer()\n",
    "print('Training time: ', stop - start)\n",
    "# Start timer\n",
    "start = timeit.default_timer()\n",
    "y_pred = svc_linear.predict(testX)\n",
    "# stop timer\n",
    "stop = timeit.default_timer()\n",
    "print('Test time: ', stop - start)\n",
    "#Performance Measures\n",
    "accuracy_svclin12_25k = 100*accuracy_score(testY,y_pred)\n",
    "precision_svclin12_25k = 100*precision_score(testY,y_pred)\n",
    "f1_svclin12_25k = 100*f1_score(testY,y_pred)\n",
    "# Printing results\n",
    "print(\"Out of\", len(testY), 'datapoints')\n",
    "print(\"Accuracy: {:.04f}%\".format(accuracy_svclin12_25k))\n",
    "print(\"Precision: {:.04f}%\".format(precision_svclin12_25k))\n",
    "print(\"F1 score: {:.04f}%\".format(f1_svclin12_25k))\n",
    "m = confusion_matrix(y_true=testY, y_pred=y_pred)\n",
    "print(\"Confusion Matrix: \\n\",m)"
   ]
  },
  {
   "cell_type": "markdown",
   "metadata": {},
   "source": [
    "## Bagging SVC, linear kernel, 1 run with 100K samples"
   ]
  },
  {
   "cell_type": "code",
   "execution_count": 6,
   "metadata": {},
   "outputs": [
    {
     "name": "stdout",
     "output_type": "stream",
     "text": [
      "Bagging SVC with gamma = \"auto\", kernel = \"linear\"\n"
     ]
    },
    {
     "name": "stderr",
     "output_type": "stream",
     "text": [
      "[Parallel(n_jobs=1)]: Using backend SequentialBackend with 1 concurrent workers.\n"
     ]
    },
    {
     "name": "stdout",
     "output_type": "stream",
     "text": [
      "Building estimator 1 of 1 for this parallel run (total 1)...\n"
     ]
    },
    {
     "name": "stderr",
     "output_type": "stream",
     "text": [
      "[Parallel(n_jobs=1)]: Done   1 out of   1 | elapsed: 43.3min remaining:    0.0s\n",
      "[Parallel(n_jobs=1)]: Done   1 out of   1 | elapsed: 43.3min finished\n",
      "[Parallel(n_jobs=1)]: Using backend SequentialBackend with 1 concurrent workers.\n"
     ]
    },
    {
     "name": "stdout",
     "output_type": "stream",
     "text": [
      "Training time:  2601.3047080629985\n"
     ]
    },
    {
     "name": "stderr",
     "output_type": "stream",
     "text": [
      "[Parallel(n_jobs=1)]: Done   1 out of   1 | elapsed: 73.5min remaining:    0.0s\n",
      "[Parallel(n_jobs=1)]: Done   1 out of   1 | elapsed: 73.5min finished\n"
     ]
    },
    {
     "name": "stdout",
     "output_type": "stream",
     "text": [
      "Test time:  4409.319777482\n",
      "Out of 400000 datapoints, our accuracy was 87.764%.\n",
      "[[174950  25050]\n",
      " [ 23895 176105]]\n"
     ]
    }
   ],
   "source": [
    "## Gamma-function = \"auto\", kernel = \"linear\"\n",
    "# Start timer\n",
    "print('Bagging SVC with gamma = \"auto\", kernel = \"linear\"')\n",
    "start = timeit.default_timer()\n",
    "\n",
    "svc_linear = BaggingClassifier(base_estimator=SVC(cache_size=2000,\n",
    "                kernel=\"linear\", gamma = \"auto\"), n_jobs=1, verbose=2,\n",
    "                n_estimators=1, random_state=0, max_samples=(100*(10**3)),\n",
    "                ).fit(trainX, trainY)\n",
    "# stop timer\n",
    "stop = timeit.default_timer()\n",
    "print('Training time: ', stop - start)\n",
    "# Start timer\n",
    "start = timeit.default_timer()\n",
    "y_pred = svc_linear.predict(testX)\n",
    "# stop timer\n",
    "stop = timeit.default_timer()\n",
    "print('Test time: ', stop - start)\n",
    "#Performance Measures\n",
    "accuracy_svclin1_100k = 100*accuracy_score(testY,y_pred)\n",
    "precision_svclin1_100k = 100*precision_score(testY,y_pred)\n",
    "f1_svclin1_100k = 100*f1_score(testY,y_pred)\n",
    "# Printing results\n",
    "print(\"Out of\", len(testY), 'datapoints')\n",
    "print(\"Accuracy: {:.04f}%\".format(accuracy_svclin1_100k))\n",
    "print(\"Precision: {:.04f}%\".format(precision_svclin1_100k))\n",
    "print(\"F1 score: {:.04f}%\".format(f1_svclin1_100k))\n",
    "m = confusion_matrix(y_true=testY, y_pred=y_pred)\n",
    "print(\"Confusion Matrix: \\n\",m)"
   ]
  },
  {
   "cell_type": "markdown",
   "metadata": {},
   "source": [
    "## Bagging SVC, linear kernel, 12 runs with 100K samples"
   ]
  },
  {
   "cell_type": "code",
   "execution_count": 7,
   "metadata": {},
   "outputs": [
    {
     "name": "stdout",
     "output_type": "stream",
     "text": [
      "Bagging SVC with gamma = \"auto\", kernel = \"linear\"\n"
     ]
    },
    {
     "name": "stderr",
     "output_type": "stream",
     "text": [
      "[Parallel(n_jobs=3)]: Using backend LokyBackend with 3 concurrent workers.\n",
      "[Parallel(n_jobs=3)]: Done   3 out of   3 | elapsed: 193.5min finished\n"
     ]
    },
    {
     "name": "stdout",
     "output_type": "stream",
     "text": [
      "Training time:  11611.358871262\n"
     ]
    },
    {
     "name": "stderr",
     "output_type": "stream",
     "text": [
      "[Parallel(n_jobs=3)]: Using backend LokyBackend with 3 concurrent workers.\n",
      "[Parallel(n_jobs=3)]: Done   3 out of   3 | elapsed: 318.7min finished\n"
     ]
    },
    {
     "name": "stdout",
     "output_type": "stream",
     "text": [
      "Test time:  19121.142607226\n",
      "Out of 400000 datapoints, our accuracy was 88.725%.\n",
      "[[177973  22027]\n",
      " [ 23073 176927]]\n"
     ]
    }
   ],
   "source": [
    "## Gamma-function = \"auto\", kernel = \"linear\"\n",
    "# Start timer\n",
    "print('Bagging SVC with gamma = \"auto\", kernel = \"linear\"')\n",
    "start = timeit.default_timer()\n",
    "\n",
    "svc_linear = BaggingClassifier(base_estimator=SVC(cache_size=1250,\n",
    "                kernel=\"linear\", gamma = \"auto\"), n_jobs=3, verbose=2,\n",
    "                n_estimators=12, random_state=0, max_samples=(100*(10**3)),\n",
    "                ).fit(trainX, trainY)\n",
    "# stop timer\n",
    "stop = timeit.default_timer()\n",
    "print('Training time: ', stop - start)\n",
    "# Start timer\n",
    "start = timeit.default_timer()\n",
    "y_pred = svc_linear.predict(testX)\n",
    "# stop timer\n",
    "stop = timeit.default_timer()\n",
    "print('Test time: ', stop - start)\n",
    "#Performance Measures\n",
    "accuracy_svclin12_100k = 100*accuracy_score(testY,y_pred)\n",
    "precision_svclin12_100k = 100*precision_score(testY,y_pred)\n",
    "f1_svclin12_100k = 100*f1_score(testY,y_pred)\n",
    "# Printing results\n",
    "print(\"Out of\", len(testY), 'datapoints')\n",
    "print(\"Accuracy: {:.04f}%\".format(accuracy_svclin12_100k))\n",
    "print(\"Precision: {:.04f}%\".format(precision_svclin12_100k))\n",
    "print(\"F1 score: {:.04f}%\".format(f1_svclin12_100k))\n",
    "m = confusion_matrix(y_true=testY, y_pred=y_pred)\n",
    "print(\"Confusion Matrix: \\n\",m)"
   ]
  },
  {
   "cell_type": "markdown",
   "metadata": {},
   "source": [
    "# CONCLUSION\n",
    "\n",
    "We can see that the Linear Kernel with 100K samples was the best result so far, but it is still inferior to running LinearSVC on the whole dataset. This dataset appears to be too large to work with SVC classifiers "
   ]
  },
  {
   "cell_type": "code",
   "execution_count": null,
   "metadata": {},
   "outputs": [],
   "source": []
  }
 ],
 "metadata": {
  "kernelspec": {
   "display_name": "Python 3",
   "language": "python",
   "name": "python3"
  },
  "language_info": {
   "codemirror_mode": {
    "name": "ipython",
    "version": 3
   },
   "file_extension": ".py",
   "mimetype": "text/x-python",
   "name": "python",
   "nbconvert_exporter": "python",
   "pygments_lexer": "ipython3",
   "version": "3.8.3"
  }
 },
 "nbformat": 4,
 "nbformat_minor": 4
}
